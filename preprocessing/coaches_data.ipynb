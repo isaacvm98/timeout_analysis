{
 "cells": [
  {
   "cell_type": "code",
   "execution_count": 1,
   "metadata": {},
   "outputs": [],
   "source": [
    "import pandas as pd\n",
    "from nba_api.stats.static import teams\n",
    "from nba_api.stats.endpoints import leaguegamefinder"
   ]
  },
  {
   "cell_type": "code",
   "execution_count": 2,
   "metadata": {},
   "outputs": [],
   "source": [
    "SEASONS = ['2015','2016','2017','2018','2019','2020','2021','2022','2023']"
   ]
  },
  {
   "cell_type": "code",
   "execution_count": 3,
   "metadata": {},
   "outputs": [],
   "source": [
    "coaches_clean = pd.DataFrame()\n",
    "for season in SEASONS:\n",
    "    coaches_df  = pd.read_html(f'https://www.basketball-reference.com/leagues/NBA_{season}_coaches.html')[0]\n",
    "    coaches_clean_season = pd.concat([coaches_df[( 'Unnamed: 1_level_0',  'Unnamed: 1_level_1', 'Tm')],coaches_df[( 'Unnamed: 0_level_0',  'Unnamed: 0_level_1', 'Coach')],\n",
    "                           coaches_df[('Regular Season','Current Season','G')]],axis=1)\n",
    "    coaches_clean_season.columns = ['Tm','Coach','G']\n",
    "    coaches_clean_season['Season'] = season\n",
    "    coaches_clean = pd.concat([coaches_clean,coaches_clean_season],ignore_index=True)"
   ]
  },
  {
   "cell_type": "code",
   "execution_count": 4,
   "metadata": {},
   "outputs": [],
   "source": [
    "teams_ids = [x['id'] for x in teams.get_teams()]\n",
    "all_games_df = pd.DataFrame()\n",
    "for team in teams_ids:\n",
    "    games = leaguegamefinder.LeagueGameFinder(team_id_nullable=team).get_data_frames()[0]\n",
    "    games['SEASON_YEAR'] = games['SEASON_ID'].str[-4:]\n",
    "    games = games[games['SEASON_YEAR'].isin(SEASONS)]\n",
    "    games['GAME_DATE'] = pd.to_datetime(games['GAME_DATE'])\n",
    "    all_games_df = pd.concat([all_games_df,games],ignore_index=True)\n"
   ]
  },
  {
   "cell_type": "code",
   "execution_count": 5,
   "metadata": {},
   "outputs": [],
   "source": [
    "all_games_df = all_games_df[all_games_df['SEASON_ID'].astype(str).str.startswith('2')]"
   ]
  },
  {
   "cell_type": "code",
   "execution_count": 6,
   "metadata": {},
   "outputs": [],
   "source": [
    "season_starts = ['2015-10-27','2016-10-25','2017-10-17','2018-10-16','2019-10-22','2020-12-22','2021-10-19','2022-10-18','2023-10-24']"
   ]
  },
  {
   "cell_type": "code",
   "execution_count": 7,
   "metadata": {},
   "outputs": [],
   "source": [
    "season_starts_dict = dict(zip(SEASONS,season_starts))"
   ]
  },
  {
   "cell_type": "code",
   "execution_count": 8,
   "metadata": {},
   "outputs": [
    {
     "data": {
      "text/plain": [
       "{'2015': '2015-10-27',\n",
       " '2016': '2016-10-25',\n",
       " '2017': '2017-10-17',\n",
       " '2018': '2018-10-16',\n",
       " '2019': '2019-10-22',\n",
       " '2020': '2020-12-22',\n",
       " '2021': '2021-10-19',\n",
       " '2022': '2022-10-18',\n",
       " '2023': '2023-10-24'}"
      ]
     },
     "execution_count": 8,
     "metadata": {},
     "output_type": "execute_result"
    }
   ],
   "source": [
    "season_starts_dict"
   ]
  },
  {
   "cell_type": "code",
   "execution_count": 9,
   "metadata": {},
   "outputs": [],
   "source": [
    "regular_seasons = []\n",
    "\n",
    "for season in SEASONS:\n",
    "    regular_season_year = all_games_df[(all_games_df['SEASON_ID']==f'2{season}')&(all_games_df['GAME_DATE']>=season_starts_dict[season])]\n",
    "    if season not in ['2015','2019','2020']: \n",
    "        assert regular_season_year.groupby('TEAM_ID').size().iloc[0] == 82\n",
    "    regular_seasons.append(regular_season_year)"
   ]
  },
  {
   "cell_type": "code",
   "execution_count": 10,
   "metadata": {},
   "outputs": [],
   "source": [
    "regular_season_df = pd.concat(regular_seasons,ignore_index=True)"
   ]
  },
  {
   "cell_type": "code",
   "execution_count": 11,
   "metadata": {},
   "outputs": [],
   "source": [
    "regular_season_df['GAME_DATE'] = pd.to_datetime(regular_season_df['GAME_DATE'])"
   ]
  },
  {
   "cell_type": "code",
   "execution_count": 12,
   "metadata": {},
   "outputs": [],
   "source": [
    "regular_season_coaches = regular_season_df.copy()"
   ]
  },
  {
   "cell_type": "code",
   "execution_count": 13,
   "metadata": {},
   "outputs": [],
   "source": [
    "regular_season_coaches = regular_season_coaches.sort_values(['SEASON_YEAR','TEAM_ABBREVIATION','GAME_DATE']).reset_index(drop=True)"
   ]
  },
  {
   "cell_type": "code",
   "execution_count": 14,
   "metadata": {},
   "outputs": [],
   "source": [
    "coaches_clean['Tm'] = coaches_clean['Tm'].replace('CHO','CHA').replace('PHO','PHX').replace('BRK','BKN')\n"
   ]
  },
  {
   "cell_type": "code",
   "execution_count": 16,
   "metadata": {},
   "outputs": [],
   "source": [
    "for ix,group in regular_season_coaches.groupby(['SEASON_YEAR','TEAM_ABBREVIATION']):\n",
    "    df_team_season = group.sort_values('GAME_DATE')\n",
    "    season_yr = df_team_season['SEASON_YEAR'].iloc[0]\n",
    "    team_abr = df_team_season['TEAM_ABBREVIATION'].iloc[0]\n",
    "    coaches_year = coaches_clean[(coaches_clean['Season'] == season_yr) &\n",
    "                                 (coaches_clean['Tm']==team_abr)]\n",
    "    if coaches_year.shape[0] == 1:\n",
    "        games = None\n",
    "        regular_season_coaches.loc[(regular_season_coaches['SEASON_YEAR']==season_yr)&\n",
    "                              (regular_season_coaches['TEAM_ABBREVIATION']==team_abr),'Coach'] = coaches_year['Coach'].iloc[0]\n",
    "    else:\n",
    "        games = coaches_year['G'].unique()\n",
    "        if games.shape[0] == 2:\n",
    "            change_coaches_df = regular_season_coaches.loc[(regular_season_coaches['SEASON_YEAR']==season_yr)&\n",
    "                              (regular_season_coaches['TEAM_ABBREVIATION']==team_abr)]\n",
    "            regular_season_coaches.loc[(regular_season_coaches.index >= change_coaches_df.index.min())&\n",
    "                                       (regular_season_coaches.index < change_coaches_df.index.min()+games[0]),'Coach'] = coaches_year['Coach'].iloc[0]\n",
    "            regular_season_coaches.loc[(regular_season_coaches.index >= change_coaches_df.index.min()+games[0]) &\n",
    "                                        (regular_season_coaches.index < change_coaches_df.index.min()+games[0]+games[1]),'Coach'] = coaches_year['Coach'].iloc[1]\n",
    "        if games.shape[0] == 3:\n",
    "            change_coaches_df = regular_season_coaches.loc[(regular_season_coaches['SEASON_YEAR']==season_yr)&\n",
    "                              (regular_season_coaches['TEAM_ABBREVIATION']==team_abr)]\n",
    "            regular_season_coaches.loc[(regular_season_coaches.index >= change_coaches_df.index.min())&\n",
    "                                       (regular_season_coaches.index < change_coaches_df.index.min()+games[0]),'Coach'] = coaches_year['Coach'].iloc[0]\n",
    "            regular_season_coaches.loc[(regular_season_coaches.index >= change_coaches_df.index.min()+games[0]) &\n",
    "                                        (regular_season_coaches.index < change_coaches_df.index.min()+games[0]+games[1]),'Coach'] = coaches_year['Coach'].iloc[1]\n",
    "            regular_season_coaches.loc[(regular_season_coaches.index >= change_coaches_df.index.min()+games[0]+games[1]) &\n",
    "                                        (regular_season_coaches.index < change_coaches_df.index.min()+games[0]+games[1]+games[2]),'Coach'] = coaches_year['Coach'].iloc[2]\n",
    "            \n"
   ]
  },
  {
   "cell_type": "code",
   "execution_count": 20,
   "metadata": {},
   "outputs": [],
   "source": [
    "regular_season_coaches.loc[(regular_season_coaches.index >= 2870)&(regular_season_coaches.index <= 2870+41),'Coach'] = 'David Blatt'\n",
    "regular_season_coaches.loc[(regular_season_coaches.index > 2870+41)&(regular_season_coaches.index <= 2870+41+41),'Coach'] = 'Tyronn Lue'\n",
    "regular_season_coaches.loc[(regular_season_coaches['TEAM_ABBREVIATION']=='CLE')&\n",
    "                       (regular_season_coaches['SEASON_YEAR']=='2020')&\n",
    "                       (regular_season_coaches.index >= 12383),'Coach'] = 'J.B. Bickerstaff'\n",
    "regular_season_coaches.loc[(regular_season_coaches['TEAM_ABBREVIATION']=='NYK')&\n",
    "                       (regular_season_coaches['SEASON_YEAR']=='2020')&\n",
    "                       (regular_season_coaches.index >= 13392),'Coach'] = 'Mike Miller'\n",
    "regular_season_coaches.loc[(regular_season_coaches['TEAM_ABBREVIATION']=='ATL')&\n",
    "                       (regular_season_coaches['SEASON_YEAR']=='2021')&\n",
    "                       (regular_season_coaches.index>=14118),'Coach'] = 'Nate McMillan'\n",
    "regular_season_coaches.loc[(regular_season_coaches['TEAM_ABBREVIATION']=='MIN')&\n",
    "                       (regular_season_coaches['SEASON_YEAR']=='2021')&\n",
    "                       (regular_season_coaches.index >= 15584),'Coach'] = 'Chris Finch'"
   ]
  },
  {
   "cell_type": "code",
   "execution_count": 22,
   "metadata": {},
   "outputs": [],
   "source": [
    "regular_season_coaches.to_csv('data/regular_season_coaches.csv',index=False)"
   ]
  },
  {
   "cell_type": "code",
   "execution_count": null,
   "metadata": {},
   "outputs": [],
   "source": []
  }
 ],
 "metadata": {
  "kernelspec": {
   "display_name": "timeout_analysis",
   "language": "python",
   "name": "python3"
  },
  "language_info": {
   "codemirror_mode": {
    "name": "ipython",
    "version": 3
   },
   "file_extension": ".py",
   "mimetype": "text/x-python",
   "name": "python",
   "nbconvert_exporter": "python",
   "pygments_lexer": "ipython3",
   "version": "3.12.4"
  }
 },
 "nbformat": 4,
 "nbformat_minor": 2
}
